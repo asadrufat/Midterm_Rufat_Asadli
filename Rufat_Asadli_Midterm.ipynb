{
 "cells": [
  {
   "cell_type": "code",
   "execution_count": 1,
   "metadata": {},
   "outputs": [],
   "source": [
    "import requests\n",
    "import json\n",
    "import pandas as pd\n",
    "from bs4 import BeautifulSoup\n",
    "import time\n",
    "from lxml import html\n",
    "import html5lib\n",
    "import random\n",
    "import matplotlib.pyplot as plt"
   ]
  },
  {
   "cell_type": "code",
   "execution_count": 5,
   "metadata": {},
   "outputs": [
    {
     "data": {
      "text/plain": [
       "403"
      ]
     },
     "execution_count": 5,
     "metadata": {},
     "output_type": "execute_result"
    }
   ],
   "source": [
    "#### PART 1 ####\n",
    "\n",
    "requests.get('https://ies-midterm.soulution.rocks/').status_code"
   ]
  },
  {
   "cell_type": "code",
   "execution_count": 6,
   "metadata": {},
   "outputs": [],
   "source": [
    "payload = '{\"cuni\":\"95580811\"}'\n",
    "r = requests.post('https://ies-midterm.soulution.rocks/login', payload)"
   ]
  },
  {
   "cell_type": "code",
   "execution_count": 7,
   "metadata": {},
   "outputs": [
    {
     "data": {
      "text/plain": [
       "<Response [200]>"
      ]
     },
     "execution_count": 7,
     "metadata": {},
     "output_type": "execute_result"
    }
   ],
   "source": [
    "r"
   ]
  },
  {
   "cell_type": "code",
   "execution_count": 8,
   "metadata": {},
   "outputs": [],
   "source": [
    "data = json.loads(r.text)"
   ]
  },
  {
   "cell_type": "code",
   "execution_count": 9,
   "metadata": {},
   "outputs": [
    {
     "data": {
      "text/plain": [
       "{'data': {'personal_code': '7b3547b8',\n",
       "  'dataset_ids': ['f894683be9',\n",
       "   '81395feb08',\n",
       "   '098b83ee51',\n",
       "   '8a310226b3',\n",
       "   '3bd4cabfaa',\n",
       "   '5aa21103e8']},\n",
       " 'message': 'Hello, Asadli Rufat! Good luck with the midterm. GET your data set from /data/file_id endpoint; use the codes you received in the data response as the file_id parameter! Print the personal code in your notebook.'}"
      ]
     },
     "execution_count": 9,
     "metadata": {},
     "output_type": "execute_result"
    }
   ],
   "source": [
    "data"
   ]
  },
  {
   "cell_type": "code",
   "execution_count": 10,
   "metadata": {},
   "outputs": [
    {
     "data": {
      "text/plain": [
       "'Hello, Asadli Rufat! Good luck with the midterm. GET your data set from /data/file_id endpoint; use the codes you received in the data response as the file_id parameter! Print the personal code in your notebook.'"
      ]
     },
     "execution_count": 10,
     "metadata": {},
     "output_type": "execute_result"
    }
   ],
   "source": [
    "data['message']"
   ]
  },
  {
   "cell_type": "code",
   "execution_count": 11,
   "metadata": {},
   "outputs": [
    {
     "data": {
      "text/plain": [
       "'7b3547b8'"
      ]
     },
     "execution_count": 11,
     "metadata": {},
     "output_type": "execute_result"
    }
   ],
   "source": [
    "data['data']['personal_code']"
   ]
  },
  {
   "cell_type": "code",
   "execution_count": 19,
   "metadata": {},
   "outputs": [
    {
     "data": {
      "text/plain": [
       "['f894683be9',\n",
       " '81395feb08',\n",
       " '098b83ee51',\n",
       " '8a310226b3',\n",
       " '3bd4cabfaa',\n",
       " '5aa21103e8']"
      ]
     },
     "execution_count": 19,
     "metadata": {},
     "output_type": "execute_result"
    }
   ],
   "source": [
    "my_codes = data['data']['dataset_ids']\n",
    "my_codes"
   ]
  },
  {
   "cell_type": "code",
   "execution_count": 120,
   "metadata": {},
   "outputs": [],
   "source": [
    "placeholder = {}\n",
    "for file_id in my_codes:\n",
    "    r = requests.get(url=f'https://ies-midterm.soulution.rocks/data/{file_id}')\n",
    "    while r.status_code !=200:  \n",
    "        r=requests.get(url=f'https://ies-midterm.soulution.rocks/data/{file_id}')\n",
    "        time.sleep(0.5)\n",
    "    DD=r.json()['data']\n",
    "    \n",
    "    ticker = DD['company']\n",
    "    data = pd.DataFrame(d['data']).set_index('Date')\n",
    "    data.index = pd.to_datetime(data.index)\n",
    "    \n",
    "    placeholder[ticker] = data\n",
    "    \n",
    "df = pd.concat(placeholder)    \n",
    "\n",
    "#we send a request with all our codes, we add a while clause for the cases when the get request does not back with code 200. \n",
    "#We convert data to json, then set index date, change it to real date with pd.to_datetime.\n",
    "#We also have a placeholder to fill the indexes with data\n",
    "#We concatenate all placeholders.\n",
    "#We do not forget to stick to numeric data type."
   ]
  },
  {
   "cell_type": "code",
   "execution_count": 121,
   "metadata": {},
   "outputs": [],
   "source": [
    "df.index.names = ['Tickers','Date']\n",
    "df.columns\n",
    "df.dropna(how='all',inplace = True)"
   ]
  },
  {
   "cell_type": "code",
   "execution_count": 122,
   "metadata": {
    "scrolled": true
   },
   "outputs": [
    {
     "data": {
      "text/html": [
       "<div>\n",
       "<style scoped>\n",
       "    .dataframe tbody tr th:only-of-type {\n",
       "        vertical-align: middle;\n",
       "    }\n",
       "\n",
       "    .dataframe tbody tr th {\n",
       "        vertical-align: top;\n",
       "    }\n",
       "\n",
       "    .dataframe thead th {\n",
       "        text-align: right;\n",
       "    }\n",
       "</style>\n",
       "<table border=\"1\" class=\"dataframe\">\n",
       "  <thead>\n",
       "    <tr style=\"text-align: right;\">\n",
       "      <th></th>\n",
       "      <th></th>\n",
       "      <th>Open</th>\n",
       "      <th>High</th>\n",
       "      <th>Low</th>\n",
       "      <th>Close</th>\n",
       "      <th>Adj.Close</th>\n",
       "      <th>Volume</th>\n",
       "    </tr>\n",
       "    <tr>\n",
       "      <th>Tickers</th>\n",
       "      <th>Date</th>\n",
       "      <th></th>\n",
       "      <th></th>\n",
       "      <th></th>\n",
       "      <th></th>\n",
       "      <th></th>\n",
       "      <th></th>\n",
       "    </tr>\n",
       "  </thead>\n",
       "  <tbody>\n",
       "    <tr>\n",
       "      <th>RTO</th>\n",
       "      <th>2020-01-24</th>\n",
       "      <td>1865.000000</td>\n",
       "      <td>1865.000000</td>\n",
       "      <td>1865.000000</td>\n",
       "      <td>1865.000000</td>\n",
       "      <td>1865.000000</td>\n",
       "      <td>0</td>\n",
       "    </tr>\n",
       "    <tr>\n",
       "      <th rowspan=\"4\" valign=\"top\">CCH</th>\n",
       "      <th>2019-01-02</th>\n",
       "      <td>9.650000</td>\n",
       "      <td>9.650000</td>\n",
       "      <td>9.640000</td>\n",
       "      <td>9.650000</td>\n",
       "      <td>9.623075</td>\n",
       "      <td>500</td>\n",
       "    </tr>\n",
       "    <tr>\n",
       "      <th>2019-01-03</th>\n",
       "      <td>9.630000</td>\n",
       "      <td>9.630000</td>\n",
       "      <td>9.630000</td>\n",
       "      <td>9.630000</td>\n",
       "      <td>9.603131</td>\n",
       "      <td>1700</td>\n",
       "    </tr>\n",
       "    <tr>\n",
       "      <th>2019-01-04</th>\n",
       "      <td>9.640000</td>\n",
       "      <td>9.640000</td>\n",
       "      <td>9.640000</td>\n",
       "      <td>9.640000</td>\n",
       "      <td>9.613103</td>\n",
       "      <td>1500</td>\n",
       "    </tr>\n",
       "    <tr>\n",
       "      <th>2019-01-07</th>\n",
       "      <td>9.640000</td>\n",
       "      <td>9.640000</td>\n",
       "      <td>9.640000</td>\n",
       "      <td>9.640000</td>\n",
       "      <td>9.613103</td>\n",
       "      <td>1000</td>\n",
       "    </tr>\n",
       "    <tr>\n",
       "      <th>...</th>\n",
       "      <th>...</th>\n",
       "      <td>...</td>\n",
       "      <td>...</td>\n",
       "      <td>...</td>\n",
       "      <td>...</td>\n",
       "      <td>...</td>\n",
       "      <td>...</td>\n",
       "    </tr>\n",
       "    <tr>\n",
       "      <th rowspan=\"5\" valign=\"top\">BME</th>\n",
       "      <th>2020-11-16</th>\n",
       "      <td>46.750000</td>\n",
       "      <td>47.099998</td>\n",
       "      <td>46.360001</td>\n",
       "      <td>46.650002</td>\n",
       "      <td>46.650002</td>\n",
       "      <td>51300</td>\n",
       "    </tr>\n",
       "    <tr>\n",
       "      <th>2020-11-17</th>\n",
       "      <td>46.689999</td>\n",
       "      <td>47.000000</td>\n",
       "      <td>46.369999</td>\n",
       "      <td>46.599998</td>\n",
       "      <td>46.599998</td>\n",
       "      <td>43900</td>\n",
       "    </tr>\n",
       "    <tr>\n",
       "      <th>2020-11-18</th>\n",
       "      <td>46.900002</td>\n",
       "      <td>47.049999</td>\n",
       "      <td>46.009998</td>\n",
       "      <td>46.240002</td>\n",
       "      <td>46.240002</td>\n",
       "      <td>49500</td>\n",
       "    </tr>\n",
       "    <tr>\n",
       "      <th>2020-11-19</th>\n",
       "      <td>46.049999</td>\n",
       "      <td>46.230000</td>\n",
       "      <td>45.689999</td>\n",
       "      <td>46.000000</td>\n",
       "      <td>46.000000</td>\n",
       "      <td>24600</td>\n",
       "    </tr>\n",
       "    <tr>\n",
       "      <th>2020-11-20</th>\n",
       "      <td>45.910000</td>\n",
       "      <td>46.660000</td>\n",
       "      <td>45.500000</td>\n",
       "      <td>45.700001</td>\n",
       "      <td>45.700001</td>\n",
       "      <td>25400</td>\n",
       "    </tr>\n",
       "  </tbody>\n",
       "</table>\n",
       "<p>2391 rows × 6 columns</p>\n",
       "</div>"
      ],
      "text/plain": [
       "                           Open         High          Low        Close  \\\n",
       "Tickers Date                                                             \n",
       "RTO     2020-01-24  1865.000000  1865.000000  1865.000000  1865.000000   \n",
       "CCH     2019-01-02     9.650000     9.650000     9.640000     9.650000   \n",
       "        2019-01-03     9.630000     9.630000     9.630000     9.630000   \n",
       "        2019-01-04     9.640000     9.640000     9.640000     9.640000   \n",
       "        2019-01-07     9.640000     9.640000     9.640000     9.640000   \n",
       "...                         ...          ...          ...          ...   \n",
       "BME     2020-11-16    46.750000    47.099998    46.360001    46.650002   \n",
       "        2020-11-17    46.689999    47.000000    46.369999    46.599998   \n",
       "        2020-11-18    46.900002    47.049999    46.009998    46.240002   \n",
       "        2020-11-19    46.049999    46.230000    45.689999    46.000000   \n",
       "        2020-11-20    45.910000    46.660000    45.500000    45.700001   \n",
       "\n",
       "                      Adj.Close  Volume  \n",
       "Tickers Date                             \n",
       "RTO     2020-01-24  1865.000000       0  \n",
       "CCH     2019-01-02     9.623075     500  \n",
       "        2019-01-03     9.603131    1700  \n",
       "        2019-01-04     9.613103    1500  \n",
       "        2019-01-07     9.613103    1000  \n",
       "...                         ...     ...  \n",
       "BME     2020-11-16    46.650002   51300  \n",
       "        2020-11-17    46.599998   43900  \n",
       "        2020-11-18    46.240002   49500  \n",
       "        2020-11-19    46.000000   24600  \n",
       "        2020-11-20    45.700001   25400  \n",
       "\n",
       "[2391 rows x 6 columns]"
      ]
     },
     "execution_count": 122,
     "metadata": {},
     "output_type": "execute_result"
    }
   ],
   "source": [
    "df = df.apply(lambda x: pd.to_numeric(x))\n",
    "df"
   ]
  },
  {
   "cell_type": "code",
   "execution_count": 115,
   "metadata": {},
   "outputs": [
    {
     "data": {
      "text/plain": [
       "Tickers\n",
       "AUTO   2020-11-20\n",
       "BME    2020-11-20\n",
       "CCH    2020-11-20\n",
       "DGE    2020-11-20\n",
       "MRO    2020-11-20\n",
       "RTO    2020-01-24\n",
       "Name: Date, dtype: datetime64[ns]"
      ]
     },
     "execution_count": 115,
     "metadata": {},
     "output_type": "execute_result"
    }
   ],
   "source": [
    "####  PART 2 ####\n",
    "\n",
    "df.reset_index(\"Date\")['Date'].groupby('Tickers').max()"
   ]
  },
  {
   "cell_type": "code",
   "execution_count": 116,
   "metadata": {},
   "outputs": [
    {
     "data": {
      "text/plain": [
       "Tickers\n",
       "AUTO   2019-01-02\n",
       "BME    2019-01-02\n",
       "CCH    2019-01-02\n",
       "DGE    2019-01-02\n",
       "MRO    2019-01-02\n",
       "RTO    2020-01-24\n",
       "Name: Date, dtype: datetime64[ns]"
      ]
     },
     "execution_count": 116,
     "metadata": {},
     "output_type": "execute_result"
    }
   ],
   "source": [
    "df.reset_index(\"Date\")['Date'].groupby('Tickers').min()"
   ]
  },
  {
   "cell_type": "code",
   "execution_count": 117,
   "metadata": {},
   "outputs": [
    {
     "data": {
      "text/plain": [
       "Tickers\n",
       "RTO     1865.000000\n",
       "CCH        9.603131\n",
       "MRO        3.102920\n",
       "DGE      709.190002\n",
       "AUTO       0.670000\n",
       "BME       26.664894\n",
       "Name: Adj.Close, dtype: float64"
      ]
     },
     "execution_count": 117,
     "metadata": {},
     "output_type": "execute_result"
    }
   ],
   "source": [
    "df.groupby('Tickers')[\"Adj.Close\"].min()"
   ]
  },
  {
   "cell_type": "code",
   "execution_count": 111,
   "metadata": {},
   "outputs": [
    {
     "data": {
      "text/plain": [
       "Ticker\n",
       "RTO     1865.000000\n",
       "CCH       19.389999\n",
       "MRO       18.377321\n",
       "DGE     1045.109985\n",
       "AUTO       5.370000\n",
       "BME       46.650002\n",
       "Name: Adj.Close, dtype: float64"
      ]
     },
     "execution_count": 111,
     "metadata": {},
     "output_type": "execute_result"
    }
   ],
   "source": [
    "df.groupby('Ticker')['Adj.Close'].max()"
   ]
  },
  {
   "cell_type": "code",
   "execution_count": 48,
   "metadata": {},
   "outputs": [
    {
     "data": {
      "text/plain": [
       "Ticker\n",
       "RTO      (RTO, 2020-01-24 00:00:00)\n",
       "CCH      (CCH, 2020-06-05 00:00:00)\n",
       "MRO      (MRO, 2020-05-29 00:00:00)\n",
       "DGE      (DGE, 2019-01-02 00:00:00)\n",
       "AUTO    (AUTO, 2020-08-27 00:00:00)\n",
       "BME      (BME, 2020-03-23 00:00:00)\n",
       "Name: Volume, dtype: object"
      ]
     },
     "execution_count": 48,
     "metadata": {},
     "output_type": "execute_result"
    }
   ],
   "source": [
    "df.groupby('Tickers')['Volume'].idxmax()"
   ]
  },
  {
   "cell_type": "code",
   "execution_count": 49,
   "metadata": {},
   "outputs": [
    {
     "data": {
      "text/plain": [
       "Ticker\n",
       "RTO               0\n",
       "CCH       161040023\n",
       "MRO     10103549800\n",
       "DGE               0\n",
       "AUTO       95550500\n",
       "BME        18166500\n",
       "Name: Volume, dtype: int64"
      ]
     },
     "execution_count": 49,
     "metadata": {},
     "output_type": "execute_result"
    }
   ],
   "source": [
    "df.groupby('Tickers')['Volume'].sum()"
   ]
  },
  {
   "cell_type": "code",
   "execution_count": 53,
   "metadata": {},
   "outputs": [
    {
     "data": {
      "text/plain": [
       "<AxesSubplot:xlabel='Date'>"
      ]
     },
     "execution_count": 53,
     "metadata": {},
     "output_type": "execute_result"
    },
    {
     "data": {
      "image/png": "[encoded data removed]",
      "text/plain": [
       "<Figure size 432x288 with 1 Axes>"
      ]
     },
     "metadata": {
      "needs_background": "light"
     },
     "output_type": "display_data"
    }
   ],
   "source": [
    "df.loc['MRO',:]['Adj.Close'].plot()"
   ]
  },
  {
   "cell_type": "code",
   "execution_count": 100,
   "metadata": {},
   "outputs": [
    {
     "data": {
      "text/plain": [
       "Ticker\n",
       "RTO      (RTO, 2020-01-24 00:00:00)\n",
       "CCH      (CCH, 2020-09-02 00:00:00)\n",
       "MRO      (MRO, 2019-09-17 00:00:00)\n",
       "DGE      (DGE, 2020-03-16 00:00:00)\n",
       "AUTO    (AUTO, 2020-11-06 00:00:00)\n",
       "BME      (BME, 2020-03-12 00:00:00)\n",
       "dtype: object"
      ]
     },
     "execution_count": 100,
     "metadata": {},
     "output_type": "execute_result"
    }
   ],
   "source": [
    "data2 = df[['Open', 'Close']]\n",
    "import numpy as np\n",
    "difference = data2.loc[:, 'Open'] - data2.loc[:, 'Close']\n",
    "maximums = difference.groupby(\"Tickers\").max()\n",
    "difference.groupby(\"Tickers\").idxmax()\n",
    "##### DGE, on 2020-03-16 #####"
   ]
  },
  {
   "cell_type": "code",
   "execution_count": 88,
   "metadata": {},
   "outputs": [
    {
     "data": {
      "text/plain": [
       "<AxesSubplot:xlabel='Ticker'>"
      ]
     },
     "execution_count": 88,
     "metadata": {},
     "output_type": "execute_result"
    },
    {
     "data": {
      "image/png": "[encoded data removed]",
      "text/plain": [
       "<Figure size 432x288 with 1 Axes>"
      ]
     },
     "metadata": {
      "needs_background": "light"
     },
     "output_type": "display_data"
    }
   ],
   "source": [
    "maximums.plot(kind = 'bar')"
   ]
  },
  {
   "cell_type": "code",
   "execution_count": 101,
   "metadata": {},
   "outputs": [
    {
     "data": {
      "text/plain": [
       "<pandas.core.groupby.generic.DataFrameGroupBy object at 0x0000016505BADE50>"
      ]
     },
     "execution_count": 101,
     "metadata": {},
     "output_type": "execute_result"
    }
   ],
   "source": [
    "df.groupby('Ticker')"
   ]
  },
  {
   "cell_type": "code",
   "execution_count": 89,
   "metadata": {},
   "outputs": [],
   "source": [
    "data3 = df['Adj.Close']"
   ]
  },
  {
   "cell_type": "code",
   "execution_count": 137,
   "metadata": {},
   "outputs": [
    {
     "data": {
      "text/plain": [
       "<AxesSubplot:xlabel='Date'>"
      ]
     },
     "execution_count": 137,
     "metadata": {},
     "output_type": "execute_result"
    },
    {
     "data": {
      "image/png": "[encoded data removed]",
      "text/plain": [
       "<Figure size 1440x432 with 1 Axes>"
      ]
     },
     "metadata": {
      "needs_background": "light"
     },
     "output_type": "display_data"
    }
   ],
   "source": [
    "plotconfig = {'style': '.',\n",
    " 'ylim': (0, 1200),\n",
    " 'xlim': ('2019-01-02', '2020-11-20'),\n",
    " 'grid': True,\n",
    " 'markersize': 5,\n",
    " 'figsize': (20, 6)}\n",
    "\n",
    "data3.reset_index('Date').plot(x = 'Date', y = 'Adj.Close', **plotconfig)"
   ]
  },
  {
   "cell_type": "code",
   "execution_count": null,
   "metadata": {},
   "outputs": [],
   "source": []
  }
 ],
 "metadata": {
  "kernelspec": {
   "display_name": "Python 3",
   "language": "python",
   "name": "python3"
  },
  "language_info": {
   "codemirror_mode": {
    "name": "ipython",
    "version": 3
   },
   "file_extension": ".py",
   "mimetype": "text/x-python",
   "name": "python",
   "nbconvert_exporter": "python",
   "pygments_lexer": "ipython3",
   "version": "3.8.5"
  }
 },
 "nbformat": 4,
 "nbformat_minor": 4
}
